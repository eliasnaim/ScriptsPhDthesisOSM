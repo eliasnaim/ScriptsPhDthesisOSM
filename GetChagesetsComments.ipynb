{
  "nbformat": 4,
  "nbformat_minor": 0,
  "metadata": {
    "colab": {
      "name": "Copy of Untitled8.ipynb",
      "provenance": [],
      "include_colab_link": true
    },
    "kernelspec": {
      "name": "python3",
      "display_name": "Python 3"
    },
    "language_info": {
      "name": "python"
    }
  },
  "cells": [
    {
      "cell_type": "markdown",
      "metadata": {
        "id": "view-in-github",
        "colab_type": "text"
      },
      "source": [
        "<a href=\"https://colab.research.google.com/github/eliasnaim/ScriptsPhDthesisOSM/blob/main/GetChagesetsComments.ipynb\" target=\"_parent\"><img src=\"https://colab.research.google.com/assets/colab-badge.svg\" alt=\"Open In Colab\"/></a>"
      ]
    },
    {
      "cell_type": "code",
      "metadata": {
        "colab": {
          "base_uri": "https://localhost:8080/"
        },
        "id": "uzKND39JKTMI",
        "outputId": "bad94e32-bde8-48ee-f144-891941630739"
      },
      "source": [
        "!pip install osmapi\n"
      ],
      "execution_count": 2,
      "outputs": [
        {
          "output_type": "stream",
          "name": "stdout",
          "text": [
            "Collecting osmapi\n",
            "  Downloading osmapi-1.3.0.tar.gz (17 kB)\n",
            "Requirement already satisfied: requests in /usr/local/lib/python3.7/dist-packages (from osmapi) (2.23.0)\n",
            "Requirement already satisfied: certifi>=2017.4.17 in /usr/local/lib/python3.7/dist-packages (from requests->osmapi) (2021.10.8)\n",
            "Requirement already satisfied: idna<3,>=2.5 in /usr/local/lib/python3.7/dist-packages (from requests->osmapi) (2.10)\n",
            "Requirement already satisfied: chardet<4,>=3.0.2 in /usr/local/lib/python3.7/dist-packages (from requests->osmapi) (3.0.4)\n",
            "Requirement already satisfied: urllib3!=1.25.0,!=1.25.1,<1.26,>=1.21.1 in /usr/local/lib/python3.7/dist-packages (from requests->osmapi) (1.24.3)\n",
            "Building wheels for collected packages: osmapi\n",
            "  Building wheel for osmapi (setup.py) ... \u001b[?25l\u001b[?25hdone\n",
            "  Created wheel for osmapi: filename=osmapi-1.3.0-py3-none-any.whl size=13227 sha256=d8ab0788c3333d9d1e39b979b7661655319818091ae2bfebbf18ad7cb6d0bbcc\n",
            "  Stored in directory: /root/.cache/pip/wheels/11/e4/91/87459765f48ec0162c5990c68b91e0ee47d7c564bb80c6f689\n",
            "Successfully built osmapi\n",
            "Installing collected packages: osmapi\n",
            "Successfully installed osmapi-1.3.0\n"
          ]
        }
      ]
    },
    {
      "cell_type": "code",
      "metadata": {
        "colab": {
          "base_uri": "https://localhost:8080/"
        },
        "id": "ZRVDB8qcKgZI",
        "outputId": "852ec63c-2ddd-43f5-b6ba-dd23b64debf2"
      },
      "source": [
        "import osmapi\n",
        "import pandas as pd\n",
        "api = osmapi.OsmApi()\n",
        "\n",
        "#def ChangesetGet(ChangesetId, include_discussion = True)\n",
        "\n",
        "\n",
        "BBOX = {\n",
        "'85912533': '1',\n",
        "'85969705': '2',\n",
        "'85913392': '3',\n",
        "'65976017': '4',\n",
        "'100386632': '5',\n",
        "'51982332': '6',\n",
        "'68893506': '7'\n",
        "}\n",
        "\n",
        "output = pd.DataFrame()\n",
        "\n",
        "coluna_comentarios = []\n",
        "\n",
        "for chave, valor in BBOX.items():\n",
        "\n",
        "  X = api.ChangesetGet(chave)\n",
        "  output = output.append(X, ignore_index=True)\n",
        "\n",
        "\n",
        "  print(api.ChangesetGet(chave))\n",
        "\n",
        "  comentario = api.ChangesetGet(chave)['tag']['comment']\n",
        "  coluna_comentarios.append(comentario)\n",
        "\n",
        "\n",
        "output['comentarios'] = coluna_comentarios\n",
        "print(output.head())\n",
        "\n",
        "\n",
        "output.to_csv(\"/content/Teste_Dados3.txt\")"
      ],
      "execution_count": 3,
      "outputs": [
        {
          "output_type": "stream",
          "name": "stdout",
          "text": [
            "{'id': 85912533, 'created_at': datetime.datetime(2020, 5, 29, 0, 19, 6), 'closed_at': datetime.datetime(2020, 5, 29, 0, 19, 8), 'open': False, 'user': 'Araucaria_araucana', 'uid': 9202927, 'min_lat': '-12.9628669', 'min_lon': '-38.4983058', 'max_lat': '-12.9537755', 'max_lon': '-38.4792770', 'comments_count': 0, 'changes_count': '1053', 'tag': {'source': 'Bing aerial imagery', 'hashtags': '#adt', 'created_by': 'JOSM/1.5 (16239 en)', 'comment': \"Aligned highways in Caixa D'Água area. New highways. #adt\"}, 'discussion': []}\n",
            "{'id': 85969705, 'created_at': datetime.datetime(2020, 5, 30, 0, 7, 9), 'closed_at': datetime.datetime(2020, 5, 30, 0, 7, 12), 'open': False, 'user': 'Araucaria_araucana', 'uid': 9202927, 'min_lat': '-12.9700125', 'min_lon': '-38.5025412', 'max_lat': '-12.9597238', 'max_lon': '-38.4926357', 'comments_count': 0, 'changes_count': '905', 'tag': {'source': 'Bing aerial imagery', 'hashtags': '#adt', 'created_by': 'JOSM/1.5 (16239 en)', 'comment': 'Improved roads in the Macaúbas neighborhood. #adt'}, 'discussion': []}\n",
            "{'id': 85913392, 'created_at': datetime.datetime(2020, 5, 29, 1, 30, 40), 'closed_at': datetime.datetime(2020, 5, 29, 1, 30, 43), 'open': False, 'user': 'Araucaria_araucana', 'uid': 9202927, 'min_lat': '-12.9681248', 'min_lon': '-38.4929935', 'max_lat': '-12.9590215', 'max_lon': '-38.4792770', 'comments_count': 0, 'changes_count': '587', 'tag': {'source': 'Bing aerial imagery', 'hashtags': '#adt', 'created_by': 'JOSM/1.5 (16239 en)', 'comment': 'Edited highways around Cidade Nova. New highways. #adt'}, 'discussion': []}\n",
            "{'id': 65976017, 'created_at': datetime.datetime(2019, 1, 3, 1, 58, 48), 'closed_at': datetime.datetime(2019, 1, 3, 3, 2, 14), 'open': False, 'user': 'santamariense_importer', 'uid': 9043280, 'min_lat': '-25.4779799', 'min_lon': '-49.2864764', 'max_lat': '-25.4619154', 'max_lon': '-49.2622929', 'comments_count': 0, 'changes_count': '2913', 'tag': {'source': 'Prefeitura de Curitiba:IPPUC:Lotes_2018-07', 'hashtags': '#Import', 'created_by': 'JOSM/1.5 (14620 pt_BR)', 'comment': '#Import Curitiba: Endereços - IPPUC. Bairro Guaíra'}, 'discussion': []}\n",
            "{'id': 100386632, 'created_at': datetime.datetime(2021, 3, 4, 4, 42, 2), 'closed_at': datetime.datetime(2021, 3, 4, 4, 42, 4), 'open': False, 'user': 'EncantoPark', 'uid': 10811366, 'min_lat': '-25.4698380', 'min_lon': '-49.2694141', 'max_lat': '-25.4639585', 'max_lon': '-49.2623092', 'comments_count': 0, 'changes_count': '28', 'tag': {'source': 'Maxar Premium Imagery', 'hashtags': '#adt', 'created_by': 'JOSM/1.5 (17428 en)', 'comment': 'Adjusted the alignment of residential and service ways #adt'}, 'discussion': []}\n",
            "{'id': 51982332, 'created_at': datetime.datetime(2017, 9, 12, 18, 32, 10), 'closed_at': datetime.datetime(2017, 9, 12, 18, 32, 18), 'open': False, 'user': 'poeiradasestrelas', 'uid': 4834210, 'min_lat': '-25.4357534', 'min_lon': '-49.2802516', 'max_lat': '-25.4313267', 'max_lon': '-49.2745731', 'comments_count': 0, 'changes_count': '202', 'tag': {'comment': 'Correção de edifícios e pois.', 'created_by': 'iD 2.4.1', 'imagery_used': 'Bing aerial imagery;DigitalGlobe Standard Imagery', 'host': 'https://www.openstreetmap.org/edit', 'locale': 'pt-BR', 'changesets_count': '166'}, 'discussion': []}\n",
            "{'id': 68893506, 'created_at': datetime.datetime(2019, 4, 4, 17, 54, 31), 'closed_at': datetime.datetime(2019, 4, 4, 17, 54, 33), 'open': False, 'user': 'Eder Oliveira', 'uid': 9595908, 'min_lat': '-25.4330640', 'min_lon': '-49.2758978', 'max_lat': '-25.4329536', 'max_lon': '-49.2757749', 'comments_count': 0, 'changes_count': '1', 'tag': {'ideditor:walkthrough_started': 'yes', 'ideditor:walkthrough_progress': 'welcome;navigation', 'changesets_count': '6', 'imagery_used': 'Bing aerial imagery', 'locale': 'en-US', 'host': 'https://www.openstreetmap.org/edit', 'created_by': 'iD 2.14.3', 'comment': 'Adding parking aisle details'}, 'discussion': []}\n",
            "  changes_count  ...                                        comentarios\n",
            "0          1053  ...  Aligned highways in Caixa D'Água area. New hig...\n",
            "1           905  ...  Improved roads in the Macaúbas neighborhood. #adt\n",
            "2           587  ...  Edited highways around Cidade Nova. New highwa...\n",
            "3          2913  ...  #Import Curitiba: Endereços - IPPUC. Bairro Gu...\n",
            "4            28  ...  Adjusted the alignment of residential and serv...\n",
            "\n",
            "[5 rows x 15 columns]\n"
          ]
        }
      ]
    },
    {
      "cell_type": "code",
      "metadata": {
        "colab": {
          "base_uri": "https://localhost:8080/"
        },
        "id": "Ujbc9MugyesY",
        "outputId": "a3223b29-d460-4808-c5b4-6017fd598268"
      },
      "source": [
        "import osmapi\n",
        "import pandas as pd\n",
        "api = osmapi.OsmApi()\n",
        "\n",
        "#def ChangesetGet(ChangesetId, include_discussion = True)\n",
        "\n",
        "\n",
        "api = osmapi.OsmApi()\n",
        "print(api.WayGet(414804516))\n",
        "\n",
        "#print(api.ChangesetGet(chave))\n",
        "\n",
        "#print(output.head())\n",
        "#output.to_csv(\"/content/Teste_Dados3.txt\")"
      ],
      "execution_count": null,
      "outputs": [
        {
          "output_type": "stream",
          "name": "stdout",
          "text": [
            "{'id': 414804516, 'visible': True, 'version': 6, 'changeset': 76233196, 'timestamp': datetime.datetime(2019, 10, 26, 3, 14, 22), 'user': 'Vinicius Moraes', 'uid': 7920187, 'tag': {'highway': 'tertiary', 'maxspeed': '40', 'name': 'Travessa Jesuíno Marcondes', 'oneway': 'yes'}, 'nd': [4159415197, 5424714845, 5424714843]}\n"
          ]
        }
      ]
    }
  ]
}