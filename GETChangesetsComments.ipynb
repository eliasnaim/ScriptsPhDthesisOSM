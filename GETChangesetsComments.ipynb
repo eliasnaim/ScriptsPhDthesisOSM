!pip install osmapi

import osmapi
import pandas as pd
api = osmapi.OsmApi()


BBOX = {
'85912533': '1',
'85969705': '2',
'85913392': '3',
'65976017': '4',
'100386632': '5',
'51982332': '6',
'68893506': '7'
}
output = pd.DataFrame()
coluna_comentarios = []
for chave, valor in BBOX.items():
  X = api.ChangesetGet(chave)
  output = output.append(X, ignore_index=True)
  print(api.ChangesetGet(chave))
  comentario = api.ChangesetGet(chave)['tag']['comment']
  coluna_comentarios.append(comentario)
output['comentarios'] = coluna_comentarios
print(output.head())
output.to_csv("/content/Teste_Dados3.txt")
